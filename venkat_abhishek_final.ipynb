{
 "cells": [
  {
   "cell_type": "markdown",
   "metadata": {},
   "source": [
    "<center>\n",
    "    <img src=\"so.png\" alt=\"stackoverflow.com\" style=\"width: 700px;\" />\n",
    "    <h1 style=\"font-size: 36px;\">Predicting Question Response Times on Stack Overflow</h1>\n",
    "    <h4>\n",
    "            Abhishek Venkat\n",
    "    </h4>\n",
    "    <hr>\n",
    "    <h1>Introduction</h1>\n",
    "    <br/>\n",
    "  </center>\n",
    "    <div>\n",
    "    <center>\n",
    "        <p>\n",
    "            Stack Overflow is a question and answer site for all levels of programmers. As one of the most popular communities for learning and sharing knowledge about computer science, Stack Overflow boasts over 50 million monthly visitors, hosting a database of roughly 20 million questions. The platform works as follows: Users with a question will make an initial post with a title, their question, and some tags that categorize their question according to broad topics (such as programming language, data structure, or etc.). Other users can than view these questions and post an answer. At any point in time, users can vote on both the question and answers, according to whether or not the question is well-researched or the the answer is useful.</p>\n",
    "        <br />\n",
    "        <p>\n",
    "            Because of the magnitude of questions that are posted on a daily basis, one aspect of interest is how quickly an answer to a given question will be posted. If a question is posed in a certain way, will it result in more or faster answers? Consider the following: By posting a question with an overly complex title or body, users might be less willing to put in the effort to answer the question. Consider another scenerio: If a question is not posted with the appropriate tags, or even too little tags, it might not reach or be exposed to the correct audience, also resulting in a slower response time.\n",
    "        </p>\n",
    "        <p>\n",
    "            Since 2009, Stack Overflow's data has been publicly available under the Creative Commons BY-SA 3.0 License. In this tutorial, my goal is to organize the data given in the data \"dump\", provide some insight into the factors that most influence the time taken for an answer to be posted for a given question, and predict response time when a question is posted with certain attributes.  \n",
    "            </p>\n",
    "        <br/>\n",
    "        <h1>\n",
    "            Getting the Data\n",
    "            </h1>\n",
    "        <hr />\n",
    "        <p> As I mentioned, Stack Overflow's record of questions and answers is publicly accessible and hosted on <a href=\"https://archive.org/details/stackexchange\">Internet Archive</a>. However, there are a number of reasons that make this source undesirable: 20 million questions results in a massive file that takes exhorbitant amounts of time simply to load and parse, these questions range all the way from the beginning of Stack Overflow's opening and thus may not represent the modern community, and such a source contains lots of extraneous data that is irrelevant for our goals. Luckily, Stack Exchange (Stack Overflow's parent company) provides a <a href=\"https://data.stackexchange.com/stackoverflow/query/new\">web-based data explorer</a> that can be used to query (via SQL) and extract portions of the data.\n",
    "        </p>\n",
    "        <p>\n",
    "            Looking at the <a href=\"https://ia800107.us.archive.org/27/items/stackexchange/readme.txt\">format</a> of the data, questions and answers are stored under a single table, called Posts, with questions having a PostTypeId of 1 and answers, 2. Furthermore, question and answers have a form of foreign-key relation: If PostTypeId is 2 (meaning the post represents an answer), then the row will have a ParentId equal to the Id of the question that it is answering. Moreover, each question can have multiple answers. For simplicty, we will only look at the fastest answer. Finally, in order to get an accurate representation of the community, will only look at more modern questions. Thus, we will need to construct a query that:\n",
    "            </p>\n",
    "            </center>\n",
    "            <ul>\n",
    "                <li>\n",
    "                 Matches questions with their answers based on the ParentId-Id relationship\n",
    "                 </li>\n",
    "                <li>\n",
    "                    Extracts relevant information, such as the time and date of posting, for both the question and answer\n",
    "                    </li>\n",
    "                <li>\n",
    "                    Limits our extraction to only questions after 2016 (a delimiter for 'modern' questions estimated through observation of the data)\n",
    "                    </li>\n",
    "              \n",
    "   </ul>\n",
    "   \n",
    "   <center>\n",
    "    <p>The following query will perform accomplish this using subqueries and windowed functions\n",
    "        </p>\n",
    "    </center>\n",
    "    <pre>\n",
    "        SELECT  q.Id, q.Title, q.Body, q.Tags, q.CreationDate as QuestionDate, \n",
    "        a2.CreationDate as AnswerDate\n",
    "        FROM    Posts q\n",
    "        INNER JOIN \n",
    "                (\n",
    "                SELECT  a.Id, a.CreationDate, a.ParentId, ROW_NUMBER()\n",
    "                        OVER (PARTITION BY a.ParentId ORDER BY a.CreationDate) AS RowNum\n",
    "                FROM    Posts a\n",
    "\n",
    "                ) a2 ON a2.ParentId = q.Id And RowNum = 1\n",
    "        WHERE q.CreationDate > Convert(datetime, '2016-12-31' )\n",
    "   </pre>\n",
    "   \n",
    "   <center>\n",
    "    <p>\n",
    "        Input this query into the data explorer and download the resulting csv file\n",
    "        </p>\n",
    "    <h1>Getting Started with the Data</h1>\n",
    "    <br />\n",
    "    <p>\n",
    "        We will use Python 3 and start by importing a few libraries (descriptions listed) \n",
    "        </p>\n",
    "    </center>\n",
    "    \n",
    "   </div>\n",
    " "
   ]
  },
  {
   "cell_type": "code",
   "execution_count": 1,
   "metadata": {},
   "outputs": [
    {
     "name": "stdout",
     "output_type": "stream",
     "text": [
      "Collecting category_encoders\n",
      "\u001b[?25l  Downloading https://files.pythonhosted.org/packages/a0/52/c54191ad3782de633ea3d6ee3bb2837bda0cf3bc97644bb6375cf14150a0/category_encoders-2.1.0-py2.py3-none-any.whl (100kB)\n",
      "\u001b[K     |████████████████████████████████| 102kB 1.5MB/s ta 0:00:01\n",
      "\u001b[?25hRequirement already satisfied: scikit-learn>=0.20.0 in /opt/conda/lib/python3.7/site-packages (from category_encoders) (0.21.3)\n",
      "Requirement already satisfied: patsy>=0.4.1 in /opt/conda/lib/python3.7/site-packages (from category_encoders) (0.5.1)\n",
      "Requirement already satisfied: numpy>=1.11.3 in /opt/conda/lib/python3.7/site-packages (from category_encoders) (1.17.0)\n",
      "Requirement already satisfied: pandas>=0.21.1 in /opt/conda/lib/python3.7/site-packages (from category_encoders) (0.25.0)\n",
      "Requirement already satisfied: statsmodels>=0.6.1 in /opt/conda/lib/python3.7/site-packages (from category_encoders) (0.10.1)\n",
      "Requirement already satisfied: scipy>=0.19.0 in /opt/conda/lib/python3.7/site-packages (from category_encoders) (1.3.1)\n",
      "Requirement already satisfied: joblib>=0.11 in /opt/conda/lib/python3.7/site-packages (from scikit-learn>=0.20.0->category_encoders) (0.13.2)\n",
      "Requirement already satisfied: six in /opt/conda/lib/python3.7/site-packages (from patsy>=0.4.1->category_encoders) (1.12.0)\n",
      "Requirement already satisfied: pytz>=2017.2 in /opt/conda/lib/python3.7/site-packages (from pandas>=0.21.1->category_encoders) (2019.2)\n",
      "Requirement already satisfied: python-dateutil>=2.6.1 in /opt/conda/lib/python3.7/site-packages (from pandas>=0.21.1->category_encoders) (2.8.0)\n",
      "Installing collected packages: category-encoders\n",
      "Successfully installed category-encoders-2.1.0\n"
     ]
    }
   ],
   "source": [
    "!pip install category_encoders"
   ]
  },
  {
   "cell_type": "code",
   "execution_count": 2,
   "metadata": {},
   "outputs": [],
   "source": [
    "import pandas as pd\n",
    "import numpy as np\n",
    "import matplotlib.pyplot as plt\n",
    "from datetime import datetime, timedelta # parsing and substracting dates\n",
    "from decimal import Decimal # computation of large floats for geometric mean\n",
    "from scipy.stats import f, mstats\n",
    "from scipy import stats\n",
    "import seaborn as sns\n",
    "from sklearn.model_selection import train_test_split\n",
    "from sklearn.linear_model import LinearRegression\n",
    "from sklearn.preprocessing import LabelEncoder\n",
    "from sklearn.metrics import mean_squared_error\n",
    "from sklearn.neighbors import KNeighborsRegressor\n",
    "import statsmodels.formula.api as smf\n",
    "import category_encoders as ce\n",
    "import warnings\n",
    "warnings.filterwarnings('ignore')"
   ]
  },
  {
   "cell_type": "markdown",
   "metadata": {},
   "source": [
    "Then, let's read in our extracted csv file and view its contents"
   ]
  },
  {
   "cell_type": "code",
   "execution_count": 3,
   "metadata": {},
   "outputs": [
    {
     "data": {
      "text/plain": [
       "(50000, 6)"
      ]
     },
     "execution_count": 3,
     "metadata": {},
     "output_type": "execute_result"
    }
   ],
   "source": [
    "so = pd.read_csv(\"stackoverflow.csv\")\n",
    "so.shape"
   ]
  },
  {
   "cell_type": "code",
   "execution_count": 4,
   "metadata": {
    "scrolled": true
   },
   "outputs": [
    {
     "data": {
      "text/html": [
       "<div>\n",
       "<style scoped>\n",
       "    .dataframe tbody tr th:only-of-type {\n",
       "        vertical-align: middle;\n",
       "    }\n",
       "\n",
       "    .dataframe tbody tr th {\n",
       "        vertical-align: top;\n",
       "    }\n",
       "\n",
       "    .dataframe thead th {\n",
       "        text-align: right;\n",
       "    }\n",
       "</style>\n",
       "<table border=\"1\" class=\"dataframe\">\n",
       "  <thead>\n",
       "    <tr style=\"text-align: right;\">\n",
       "      <th></th>\n",
       "      <th>Id</th>\n",
       "      <th>Title</th>\n",
       "      <th>Body</th>\n",
       "      <th>Tags</th>\n",
       "      <th>QuestionDate</th>\n",
       "      <th>AnswerDate</th>\n",
       "    </tr>\n",
       "  </thead>\n",
       "  <tbody>\n",
       "    <tr>\n",
       "      <th>0</th>\n",
       "      <td>41404220</td>\n",
       "      <td>what can be a statement after if?</td>\n",
       "      <td>&lt;pre&gt;&lt;code&gt;def check():\\n    if [1,2,3]:\\n    ...</td>\n",
       "      <td>&lt;python&gt;&lt;if-statement&gt;</td>\n",
       "      <td>2016-12-31 00:01:40</td>\n",
       "      <td>2016-12-31 00:05:51</td>\n",
       "    </tr>\n",
       "    <tr>\n",
       "      <th>1</th>\n",
       "      <td>41404236</td>\n",
       "      <td>How do I Inner Join users table with followed ...</td>\n",
       "      <td>&lt;p&gt;I am trying to retrieve the posts from the ...</td>\n",
       "      <td>&lt;php&gt;&lt;mysql&gt;</td>\n",
       "      <td>2016-12-31 00:04:22</td>\n",
       "      <td>2016-12-31 00:17:53</td>\n",
       "    </tr>\n",
       "    <tr>\n",
       "      <th>2</th>\n",
       "      <td>41404216</td>\n",
       "      <td>Android send curl request to Heroku with option</td>\n",
       "      <td>&lt;p&gt;Using Android, I am trying to send a curl r...</td>\n",
       "      <td>&lt;android&gt;&lt;curl&gt;&lt;heroku&gt;&lt;httpclient&gt;</td>\n",
       "      <td>2016-12-31 00:01:15</td>\n",
       "      <td>2016-12-31 00:14:14</td>\n",
       "    </tr>\n",
       "    <tr>\n",
       "      <th>3</th>\n",
       "      <td>41404232</td>\n",
       "      <td>React TransitionGroup and React.cloneElement d...</td>\n",
       "      <td>&lt;p&gt;I am following Chang Wang's tutorial for ma...</td>\n",
       "      <td>&lt;reactjs&gt;&lt;animation&gt;&lt;redux&gt;&lt;react-router&gt;&lt;reac...</td>\n",
       "      <td>2016-12-31 00:03:17</td>\n",
       "      <td>2016-12-31 06:03:28</td>\n",
       "    </tr>\n",
       "    <tr>\n",
       "      <th>4</th>\n",
       "      <td>41404242</td>\n",
       "      <td>How to access the outer caller in nested forEach</td>\n",
       "      <td>&lt;p&gt;I'm learning &lt;a href=\"https://developer.moz...</td>\n",
       "      <td>&lt;javascript&gt;&lt;arrays&gt;&lt;foreach&gt;</td>\n",
       "      <td>2016-12-31 00:05:25</td>\n",
       "      <td>2016-12-31 00:09:37</td>\n",
       "    </tr>\n",
       "  </tbody>\n",
       "</table>\n",
       "</div>"
      ],
      "text/plain": [
       "         Id                                              Title  \\\n",
       "0  41404220                  what can be a statement after if?   \n",
       "1  41404236  How do I Inner Join users table with followed ...   \n",
       "2  41404216    Android send curl request to Heroku with option   \n",
       "3  41404232  React TransitionGroup and React.cloneElement d...   \n",
       "4  41404242   How to access the outer caller in nested forEach   \n",
       "\n",
       "                                                Body  \\\n",
       "0  <pre><code>def check():\\n    if [1,2,3]:\\n    ...   \n",
       "1  <p>I am trying to retrieve the posts from the ...   \n",
       "2  <p>Using Android, I am trying to send a curl r...   \n",
       "3  <p>I am following Chang Wang's tutorial for ma...   \n",
       "4  <p>I'm learning <a href=\"https://developer.moz...   \n",
       "\n",
       "                                                Tags         QuestionDate  \\\n",
       "0                             <python><if-statement>  2016-12-31 00:01:40   \n",
       "1                                       <php><mysql>  2016-12-31 00:04:22   \n",
       "2                <android><curl><heroku><httpclient>  2016-12-31 00:01:15   \n",
       "3  <reactjs><animation><redux><react-router><reac...  2016-12-31 00:03:17   \n",
       "4                      <javascript><arrays><foreach>  2016-12-31 00:05:25   \n",
       "\n",
       "            AnswerDate  \n",
       "0  2016-12-31 00:05:51  \n",
       "1  2016-12-31 00:17:53  \n",
       "2  2016-12-31 00:14:14  \n",
       "3  2016-12-31 06:03:28  \n",
       "4  2016-12-31 00:09:37  "
      ]
     },
     "execution_count": 4,
     "metadata": {},
     "output_type": "execute_result"
    }
   ],
   "source": [
    "so.head()"
   ]
  },
  {
   "cell_type": "markdown",
   "metadata": {},
   "source": [
    "In the above dataframe, there are 6 columns:\n",
    "- Id: the unique identifier for each questions\n",
    "- Title: the title of the question\n",
    "- Body: the larger text representing the body or actual question\n",
    "- Tags: the series of tags that a question was posted with; these classify the question as described before\n",
    "- QuestionDate: The exact date and time at which the question was first posted\n",
    "- AnswerDate: The exact date and time at which the _first_ answer to the given question was posted"
   ]
  },
  {
   "cell_type": "markdown",
   "metadata": {},
   "source": [
    "<center>\n",
    "    <h1>\n",
    "        Preprocessing\n",
    "    </h1>\n",
    "   </center>\n",
    "   <br />\n",
    "   \n",
    "Before we can begin analyzing our data, we will need to tidy it and extract important pieces of information. This will include items such computing the time difference between QuestionDate and AnswerDate and extracting a list of tags for each question"
   ]
  },
  {
   "cell_type": "markdown",
   "metadata": {},
   "source": [
    "The first thing we will do is extract the time taken to respond to a question: First, the QuestionDate and AnswerDate fields are stored as strings representing the SQL datetime format: YYYY-MM-DD HH:MI:SS. The process is then simply to parse the date from each string and substract them using python's datetime library. For simplicity and ease of later computation, the time difference will be stored in terms of minutes   "
   ]
  },
  {
   "cell_type": "code",
   "execution_count": 5,
   "metadata": {},
   "outputs": [
    {
     "data": {
      "text/html": [
       "<div>\n",
       "<style scoped>\n",
       "    .dataframe tbody tr th:only-of-type {\n",
       "        vertical-align: middle;\n",
       "    }\n",
       "\n",
       "    .dataframe tbody tr th {\n",
       "        vertical-align: top;\n",
       "    }\n",
       "\n",
       "    .dataframe thead th {\n",
       "        text-align: right;\n",
       "    }\n",
       "</style>\n",
       "<table border=\"1\" class=\"dataframe\">\n",
       "  <thead>\n",
       "    <tr style=\"text-align: right;\">\n",
       "      <th></th>\n",
       "      <th>Id</th>\n",
       "      <th>Title</th>\n",
       "      <th>Body</th>\n",
       "      <th>Tags</th>\n",
       "      <th>QuestionDate</th>\n",
       "      <th>AnswerDate</th>\n",
       "      <th>time_diff</th>\n",
       "    </tr>\n",
       "  </thead>\n",
       "  <tbody>\n",
       "    <tr>\n",
       "      <th>0</th>\n",
       "      <td>41404220</td>\n",
       "      <td>what can be a statement after if?</td>\n",
       "      <td>&lt;pre&gt;&lt;code&gt;def check():\\n    if [1,2,3]:\\n    ...</td>\n",
       "      <td>&lt;python&gt;&lt;if-statement&gt;</td>\n",
       "      <td>2016-12-31 00:01:40</td>\n",
       "      <td>2016-12-31 00:05:51</td>\n",
       "      <td>4.18333333333333357018091192003339529037475585...</td>\n",
       "    </tr>\n",
       "    <tr>\n",
       "      <th>1</th>\n",
       "      <td>41404236</td>\n",
       "      <td>How do I Inner Join users table with followed ...</td>\n",
       "      <td>&lt;p&gt;I am trying to retrieve the posts from the ...</td>\n",
       "      <td>&lt;php&gt;&lt;mysql&gt;</td>\n",
       "      <td>2016-12-31 00:04:22</td>\n",
       "      <td>2016-12-31 00:17:53</td>\n",
       "      <td>13.5166666666666674956331917201168835163116455...</td>\n",
       "    </tr>\n",
       "    <tr>\n",
       "      <th>2</th>\n",
       "      <td>41404216</td>\n",
       "      <td>Android send curl request to Heroku with option</td>\n",
       "      <td>&lt;p&gt;Using Android, I am trying to send a curl r...</td>\n",
       "      <td>&lt;android&gt;&lt;curl&gt;&lt;heroku&gt;&lt;httpclient&gt;</td>\n",
       "      <td>2016-12-31 00:01:15</td>\n",
       "      <td>2016-12-31 00:14:14</td>\n",
       "      <td>12.9833333333333325043668082798831164836883544...</td>\n",
       "    </tr>\n",
       "    <tr>\n",
       "      <th>3</th>\n",
       "      <td>41404232</td>\n",
       "      <td>React TransitionGroup and React.cloneElement d...</td>\n",
       "      <td>&lt;p&gt;I am following Chang Wang's tutorial for ma...</td>\n",
       "      <td>&lt;reactjs&gt;&lt;animation&gt;&lt;redux&gt;&lt;react-router&gt;&lt;reac...</td>\n",
       "      <td>2016-12-31 00:03:17</td>\n",
       "      <td>2016-12-31 06:03:28</td>\n",
       "      <td>360.18333333333333712289459072053432464599609375</td>\n",
       "    </tr>\n",
       "    <tr>\n",
       "      <th>4</th>\n",
       "      <td>41404242</td>\n",
       "      <td>How to access the outer caller in nested forEach</td>\n",
       "      <td>&lt;p&gt;I'm learning &lt;a href=\"https://developer.moz...</td>\n",
       "      <td>&lt;javascript&gt;&lt;arrays&gt;&lt;foreach&gt;</td>\n",
       "      <td>2016-12-31 00:05:25</td>\n",
       "      <td>2016-12-31 00:09:37</td>\n",
       "      <td>4.20000000000000017763568394002504646778106689...</td>\n",
       "    </tr>\n",
       "  </tbody>\n",
       "</table>\n",
       "</div>"
      ],
      "text/plain": [
       "         Id                                              Title  \\\n",
       "0  41404220                  what can be a statement after if?   \n",
       "1  41404236  How do I Inner Join users table with followed ...   \n",
       "2  41404216    Android send curl request to Heroku with option   \n",
       "3  41404232  React TransitionGroup and React.cloneElement d...   \n",
       "4  41404242   How to access the outer caller in nested forEach   \n",
       "\n",
       "                                                Body  \\\n",
       "0  <pre><code>def check():\\n    if [1,2,3]:\\n    ...   \n",
       "1  <p>I am trying to retrieve the posts from the ...   \n",
       "2  <p>Using Android, I am trying to send a curl r...   \n",
       "3  <p>I am following Chang Wang's tutorial for ma...   \n",
       "4  <p>I'm learning <a href=\"https://developer.moz...   \n",
       "\n",
       "                                                Tags         QuestionDate  \\\n",
       "0                             <python><if-statement>  2016-12-31 00:01:40   \n",
       "1                                       <php><mysql>  2016-12-31 00:04:22   \n",
       "2                <android><curl><heroku><httpclient>  2016-12-31 00:01:15   \n",
       "3  <reactjs><animation><redux><react-router><reac...  2016-12-31 00:03:17   \n",
       "4                      <javascript><arrays><foreach>  2016-12-31 00:05:25   \n",
       "\n",
       "            AnswerDate                                          time_diff  \n",
       "0  2016-12-31 00:05:51  4.18333333333333357018091192003339529037475585...  \n",
       "1  2016-12-31 00:17:53  13.5166666666666674956331917201168835163116455...  \n",
       "2  2016-12-31 00:14:14  12.9833333333333325043668082798831164836883544...  \n",
       "3  2016-12-31 06:03:28   360.18333333333333712289459072053432464599609375  \n",
       "4  2016-12-31 00:09:37  4.20000000000000017763568394002504646778106689...  "
      ]
     },
     "execution_count": 5,
     "metadata": {},
     "output_type": "execute_result"
    }
   ],
   "source": [
    "# Given a row, this method will parse the QuestionDate and AnswerDate fields and return the substracted time\n",
    "def mapDateAndSubtract(row):\n",
    "    \n",
    "    # use strptime to convert string to datetime object\n",
    "    \n",
    "    QuestionTime = datetime.strptime(row['QuestionDate'], \"%Y-%m-%d %H:%M:%S\")\n",
    "    \n",
    "    AnswerTime = datetime.strptime(row['AnswerDate'], \"%Y-%m-%d %H:%M:%S\")\n",
    "    \n",
    "    return Decimal((AnswerTime - QuestionTime).total_seconds() / 60)\n",
    "    \n",
    "    \n",
    "# Map dataframe to create time difference column, time_diff   \n",
    "so['time_diff'] = so.apply (mapDateAndSubtract, axis=1)\n",
    "so.head()"
   ]
  },
  {
   "cell_type": "markdown",
   "metadata": {},
   "source": [
    "The next thing we will do is extract the tags as a list of strings. Currently, the tags are represented as a single string as follows: \"<tag #1><tag #2>...\". The process of extraction will simply be to remove the outermost angled brackets and split the resulting string"
   ]
  },
  {
   "cell_type": "code",
   "execution_count": 6,
   "metadata": {},
   "outputs": [
    {
     "data": {
      "text/html": [
       "<div>\n",
       "<style scoped>\n",
       "    .dataframe tbody tr th:only-of-type {\n",
       "        vertical-align: middle;\n",
       "    }\n",
       "\n",
       "    .dataframe tbody tr th {\n",
       "        vertical-align: top;\n",
       "    }\n",
       "\n",
       "    .dataframe thead th {\n",
       "        text-align: right;\n",
       "    }\n",
       "</style>\n",
       "<table border=\"1\" class=\"dataframe\">\n",
       "  <thead>\n",
       "    <tr style=\"text-align: right;\">\n",
       "      <th></th>\n",
       "      <th>Id</th>\n",
       "      <th>Title</th>\n",
       "      <th>Body</th>\n",
       "      <th>Tags</th>\n",
       "      <th>QuestionDate</th>\n",
       "      <th>AnswerDate</th>\n",
       "      <th>time_diff</th>\n",
       "      <th>tag_list</th>\n",
       "    </tr>\n",
       "  </thead>\n",
       "  <tbody>\n",
       "    <tr>\n",
       "      <th>0</th>\n",
       "      <td>41404220</td>\n",
       "      <td>what can be a statement after if?</td>\n",
       "      <td>&lt;pre&gt;&lt;code&gt;def check():\\n    if [1,2,3]:\\n    ...</td>\n",
       "      <td>&lt;python&gt;&lt;if-statement&gt;</td>\n",
       "      <td>2016-12-31 00:01:40</td>\n",
       "      <td>2016-12-31 00:05:51</td>\n",
       "      <td>4.18333333333333357018091192003339529037475585...</td>\n",
       "      <td>[python, if-statement]</td>\n",
       "    </tr>\n",
       "    <tr>\n",
       "      <th>1</th>\n",
       "      <td>41404236</td>\n",
       "      <td>How do I Inner Join users table with followed ...</td>\n",
       "      <td>&lt;p&gt;I am trying to retrieve the posts from the ...</td>\n",
       "      <td>&lt;php&gt;&lt;mysql&gt;</td>\n",
       "      <td>2016-12-31 00:04:22</td>\n",
       "      <td>2016-12-31 00:17:53</td>\n",
       "      <td>13.5166666666666674956331917201168835163116455...</td>\n",
       "      <td>[php, mysql]</td>\n",
       "    </tr>\n",
       "    <tr>\n",
       "      <th>2</th>\n",
       "      <td>41404216</td>\n",
       "      <td>Android send curl request to Heroku with option</td>\n",
       "      <td>&lt;p&gt;Using Android, I am trying to send a curl r...</td>\n",
       "      <td>&lt;android&gt;&lt;curl&gt;&lt;heroku&gt;&lt;httpclient&gt;</td>\n",
       "      <td>2016-12-31 00:01:15</td>\n",
       "      <td>2016-12-31 00:14:14</td>\n",
       "      <td>12.9833333333333325043668082798831164836883544...</td>\n",
       "      <td>[android, curl, heroku, httpclient]</td>\n",
       "    </tr>\n",
       "    <tr>\n",
       "      <th>3</th>\n",
       "      <td>41404232</td>\n",
       "      <td>React TransitionGroup and React.cloneElement d...</td>\n",
       "      <td>&lt;p&gt;I am following Chang Wang's tutorial for ma...</td>\n",
       "      <td>&lt;reactjs&gt;&lt;animation&gt;&lt;redux&gt;&lt;react-router&gt;&lt;reac...</td>\n",
       "      <td>2016-12-31 00:03:17</td>\n",
       "      <td>2016-12-31 06:03:28</td>\n",
       "      <td>360.18333333333333712289459072053432464599609375</td>\n",
       "      <td>[reactjs, animation, redux, react-router, reac...</td>\n",
       "    </tr>\n",
       "    <tr>\n",
       "      <th>4</th>\n",
       "      <td>41404242</td>\n",
       "      <td>How to access the outer caller in nested forEach</td>\n",
       "      <td>&lt;p&gt;I'm learning &lt;a href=\"https://developer.moz...</td>\n",
       "      <td>&lt;javascript&gt;&lt;arrays&gt;&lt;foreach&gt;</td>\n",
       "      <td>2016-12-31 00:05:25</td>\n",
       "      <td>2016-12-31 00:09:37</td>\n",
       "      <td>4.20000000000000017763568394002504646778106689...</td>\n",
       "      <td>[javascript, arrays, foreach]</td>\n",
       "    </tr>\n",
       "  </tbody>\n",
       "</table>\n",
       "</div>"
      ],
      "text/plain": [
       "         Id                                              Title  \\\n",
       "0  41404220                  what can be a statement after if?   \n",
       "1  41404236  How do I Inner Join users table with followed ...   \n",
       "2  41404216    Android send curl request to Heroku with option   \n",
       "3  41404232  React TransitionGroup and React.cloneElement d...   \n",
       "4  41404242   How to access the outer caller in nested forEach   \n",
       "\n",
       "                                                Body  \\\n",
       "0  <pre><code>def check():\\n    if [1,2,3]:\\n    ...   \n",
       "1  <p>I am trying to retrieve the posts from the ...   \n",
       "2  <p>Using Android, I am trying to send a curl r...   \n",
       "3  <p>I am following Chang Wang's tutorial for ma...   \n",
       "4  <p>I'm learning <a href=\"https://developer.moz...   \n",
       "\n",
       "                                                Tags         QuestionDate  \\\n",
       "0                             <python><if-statement>  2016-12-31 00:01:40   \n",
       "1                                       <php><mysql>  2016-12-31 00:04:22   \n",
       "2                <android><curl><heroku><httpclient>  2016-12-31 00:01:15   \n",
       "3  <reactjs><animation><redux><react-router><reac...  2016-12-31 00:03:17   \n",
       "4                      <javascript><arrays><foreach>  2016-12-31 00:05:25   \n",
       "\n",
       "            AnswerDate                                          time_diff  \\\n",
       "0  2016-12-31 00:05:51  4.18333333333333357018091192003339529037475585...   \n",
       "1  2016-12-31 00:17:53  13.5166666666666674956331917201168835163116455...   \n",
       "2  2016-12-31 00:14:14  12.9833333333333325043668082798831164836883544...   \n",
       "3  2016-12-31 06:03:28   360.18333333333333712289459072053432464599609375   \n",
       "4  2016-12-31 00:09:37  4.20000000000000017763568394002504646778106689...   \n",
       "\n",
       "                                            tag_list  \n",
       "0                             [python, if-statement]  \n",
       "1                                       [php, mysql]  \n",
       "2                [android, curl, heroku, httpclient]  \n",
       "3  [reactjs, animation, redux, react-router, reac...  \n",
       "4                      [javascript, arrays, foreach]  "
      ]
     },
     "execution_count": 6,
     "metadata": {},
     "output_type": "execute_result"
    }
   ],
   "source": [
    "def mapTags(tag):\n",
    "    tags = []\n",
    "\n",
    "    # at least one tag - safety measure for general purposes: no row in current dataset has zero tags \n",
    "    if(len(tag) != 0):\n",
    "        tags = tag[1:-1].split(\"><\")        \n",
    "        \n",
    "    return tags\n",
    "    \n",
    "so['tag_list'] = so['Tags'].apply(mapTags)\n",
    "so.head()"
   ]
  },
  {
   "cell_type": "markdown",
   "metadata": {},
   "source": [
    "<center>\n",
    "    <h1>\n",
    "        Exploratory Data Analysis\n",
    "    </h1>\n",
    "    </center>\n",
    "    <br />\n",
    "    \n",
    "We can now begin analyzing some basic properties of the date\n",
    "\n",
    "Let's start by getting the average response time for some popular tags:"
   ]
  },
  {
   "cell_type": "code",
   "execution_count": 7,
   "metadata": {},
   "outputs": [],
   "source": [
    "# helper function to format time difference (i.e. convert seconds to days, minutes, etc...)\n",
    "def pretty_print_time(df):\n",
    "    curdf = df.copy()\n",
    "    curdf[('time_diff', 'avg')] = curdf[('time_diff', 'avg')].apply(lambda x: timedelta(seconds=float(x)*60))\n",
    "    return curdf"
   ]
  },
  {
   "cell_type": "code",
   "execution_count": 8,
   "metadata": {},
   "outputs": [
    {
     "data": {
      "text/html": [
       "<div>\n",
       "<style scoped>\n",
       "    .dataframe tbody tr th:only-of-type {\n",
       "        vertical-align: middle;\n",
       "    }\n",
       "\n",
       "    .dataframe tbody tr th {\n",
       "        vertical-align: top;\n",
       "    }\n",
       "\n",
       "    .dataframe thead tr th {\n",
       "        text-align: left;\n",
       "    }\n",
       "\n",
       "    .dataframe thead tr:last-of-type th {\n",
       "        text-align: right;\n",
       "    }\n",
       "</style>\n",
       "<table border=\"1\" class=\"dataframe\">\n",
       "  <thead>\n",
       "    <tr>\n",
       "      <th></th>\n",
       "      <th colspan=\"2\" halign=\"left\">time_diff</th>\n",
       "    </tr>\n",
       "    <tr>\n",
       "      <th></th>\n",
       "      <th>avg</th>\n",
       "      <th>count</th>\n",
       "    </tr>\n",
       "    <tr>\n",
       "      <th>tag_list</th>\n",
       "      <th></th>\n",
       "      <th></th>\n",
       "    </tr>\n",
       "  </thead>\n",
       "  <tbody>\n",
       "    <tr>\n",
       "      <th>javascript</th>\n",
       "      <td>7 days 21:04:00.183925</td>\n",
       "      <td>6171</td>\n",
       "    </tr>\n",
       "    <tr>\n",
       "      <th>java</th>\n",
       "      <td>9 days 15:44:51.613500</td>\n",
       "      <td>4000</td>\n",
       "    </tr>\n",
       "    <tr>\n",
       "      <th>c#</th>\n",
       "      <td>8 days 23:52:09.494881</td>\n",
       "      <td>3223</td>\n",
       "    </tr>\n",
       "    <tr>\n",
       "      <th>php</th>\n",
       "      <td>7 days 16:56:27.271612</td>\n",
       "      <td>3586</td>\n",
       "    </tr>\n",
       "    <tr>\n",
       "      <th>python</th>\n",
       "      <td>11 days 21:01:58.066534</td>\n",
       "      <td>4028</td>\n",
       "    </tr>\n",
       "    <tr>\n",
       "      <th>android</th>\n",
       "      <td>14 days 01:59:33.481716</td>\n",
       "      <td>3637</td>\n",
       "    </tr>\n",
       "    <tr>\n",
       "      <th>jquery</th>\n",
       "      <td>3 days 22:13:07.322782</td>\n",
       "      <td>2401</td>\n",
       "    </tr>\n",
       "    <tr>\n",
       "      <th>html</th>\n",
       "      <td>4 days 04:35:17.291076</td>\n",
       "      <td>2824</td>\n",
       "    </tr>\n",
       "    <tr>\n",
       "      <th>perl</th>\n",
       "      <td>0 days 09:04:45.526316</td>\n",
       "      <td>114</td>\n",
       "    </tr>\n",
       "    <tr>\n",
       "      <th>rust</th>\n",
       "      <td>20 days 02:41:59.821429</td>\n",
       "      <td>84</td>\n",
       "    </tr>\n",
       "  </tbody>\n",
       "</table>\n",
       "</div>"
      ],
      "text/plain": [
       "                         time_diff      \n",
       "                               avg count\n",
       "tag_list                                \n",
       "javascript  7 days 21:04:00.183925  6171\n",
       "java        9 days 15:44:51.613500  4000\n",
       "c#          8 days 23:52:09.494881  3223\n",
       "php         7 days 16:56:27.271612  3586\n",
       "python     11 days 21:01:58.066534  4028\n",
       "android    14 days 01:59:33.481716  3637\n",
       "jquery      3 days 22:13:07.322782  2401\n",
       "html        4 days 04:35:17.291076  2824\n",
       "perl        0 days 09:04:45.526316   114\n",
       "rust       20 days 02:41:59.821429    84"
      ]
     },
     "execution_count": 8,
     "metadata": {},
     "output_type": "execute_result"
    }
   ],
   "source": [
    "popular = so.explode('tag_list') # create a new row for every existing row with one tag in each\n",
    "aggre = popular[['time_diff','tag_list']].groupby('tag_list').agg([lambda x: x.mean(), 'count']) # groupby tag and aggregate\n",
    "aggre.columns.set_levels(['avg','count'],level=1,inplace=True) # rename columns\n",
    "# popular tags\n",
    "pretty_print_time(aggre.loc[['javascript', 'java', 'c#', 'php', 'python', 'android', 'jquery', 'html', 'perl', 'rust']])"
   ]
  },
  {
   "cell_type": "markdown",
   "metadata": {},
   "source": [
    "However, these numbers look very skewed in comparison to reality. Let's try taking a geometric mean instead of an arithmetic mean:"
   ]
  },
  {
   "cell_type": "code",
   "execution_count": 9,
   "metadata": {},
   "outputs": [
    {
     "data": {
      "text/html": [
       "<div>\n",
       "<style scoped>\n",
       "    .dataframe tbody tr th:only-of-type {\n",
       "        vertical-align: middle;\n",
       "    }\n",
       "\n",
       "    .dataframe tbody tr th {\n",
       "        vertical-align: top;\n",
       "    }\n",
       "\n",
       "    .dataframe thead tr th {\n",
       "        text-align: left;\n",
       "    }\n",
       "\n",
       "    .dataframe thead tr:last-of-type th {\n",
       "        text-align: right;\n",
       "    }\n",
       "</style>\n",
       "<table border=\"1\" class=\"dataframe\">\n",
       "  <thead>\n",
       "    <tr>\n",
       "      <th></th>\n",
       "      <th colspan=\"2\" halign=\"left\">time_diff</th>\n",
       "    </tr>\n",
       "    <tr>\n",
       "      <th></th>\n",
       "      <th>avg</th>\n",
       "      <th>count</th>\n",
       "    </tr>\n",
       "    <tr>\n",
       "      <th>tag_list</th>\n",
       "      <th></th>\n",
       "      <th></th>\n",
       "    </tr>\n",
       "  </thead>\n",
       "  <tbody>\n",
       "    <tr>\n",
       "      <th>javascript</th>\n",
       "      <td>00:41:53.178257</td>\n",
       "      <td>6171</td>\n",
       "    </tr>\n",
       "    <tr>\n",
       "      <th>java</th>\n",
       "      <td>01:09:17.553080</td>\n",
       "      <td>4000</td>\n",
       "    </tr>\n",
       "    <tr>\n",
       "      <th>c#</th>\n",
       "      <td>01:04:19.532371</td>\n",
       "      <td>3223</td>\n",
       "    </tr>\n",
       "    <tr>\n",
       "      <th>php</th>\n",
       "      <td>00:46:12.394996</td>\n",
       "      <td>3586</td>\n",
       "    </tr>\n",
       "    <tr>\n",
       "      <th>python</th>\n",
       "      <td>00:55:38.897536</td>\n",
       "      <td>4028</td>\n",
       "    </tr>\n",
       "    <tr>\n",
       "      <th>android</th>\n",
       "      <td>01:18:42.132690</td>\n",
       "      <td>3637</td>\n",
       "    </tr>\n",
       "    <tr>\n",
       "      <th>jquery</th>\n",
       "      <td>00:27:40.804246</td>\n",
       "      <td>2401</td>\n",
       "    </tr>\n",
       "    <tr>\n",
       "      <th>html</th>\n",
       "      <td>00:23:56.150646</td>\n",
       "      <td>2824</td>\n",
       "    </tr>\n",
       "    <tr>\n",
       "      <th>perl</th>\n",
       "      <td>00:39:27.400805</td>\n",
       "      <td>114</td>\n",
       "    </tr>\n",
       "    <tr>\n",
       "      <th>rust</th>\n",
       "      <td>01:39:46.785530</td>\n",
       "      <td>84</td>\n",
       "    </tr>\n",
       "  </tbody>\n",
       "</table>\n",
       "</div>"
      ],
      "text/plain": [
       "                 time_diff      \n",
       "                       avg count\n",
       "tag_list                        \n",
       "javascript 00:41:53.178257  6171\n",
       "java       01:09:17.553080  4000\n",
       "c#         01:04:19.532371  3223\n",
       "php        00:46:12.394996  3586\n",
       "python     00:55:38.897536  4028\n",
       "android    01:18:42.132690  3637\n",
       "jquery     00:27:40.804246  2401\n",
       "html       00:23:56.150646  2824\n",
       "perl       00:39:27.400805   114\n",
       "rust       01:39:46.785530    84"
      ]
     },
     "execution_count": 9,
     "metadata": {},
     "output_type": "execute_result"
    }
   ],
   "source": [
    "def geo_mean(sr):\n",
    "    sr_temp = sr[sr != 0]\n",
    "    \n",
    "    try:\n",
    "        pr = sr_temp.product()\n",
    "        over = Decimal(1)/Decimal(len(sr_temp))        \n",
    "        return Decimal(pr)**(Decimal(over))\n",
    "    except:\n",
    "        return 0\n",
    "        \n",
    "\n",
    "aggre2 = popular[['time_diff','tag_list']].groupby('tag_list').agg({'time_diff':[geo_mean, 'count']}) # groupby tag and aggregate\n",
    "aggre2.columns.set_levels(['avg','count'],level=1,inplace=True) # rename columns\n",
    "# popular tags\n",
    "pretty_print_time(aggre2.loc[['javascript', 'java', 'c#', 'php', 'python', 'android', 'jquery', 'html', 'perl', 'rust']])"
   ]
  },
  {
   "cell_type": "markdown",
   "metadata": {},
   "source": [
    "This looks a little more accurate\n",
    "\n",
    "At this point there are several questions we would like to answer:\n",
    "- Do key question words (how, why, which) differ in response times?\n",
    "- Does it take less time to get a response on certain days of the week?\n",
    "- Does it take less time to get a response at certain times (1 AM vs 1 PM)?\n",
    "- Do shorter questions get a faster reply than longer questions?\n",
    "- etc...\n",
    "\n",
    "We will try and explore some of these"
   ]
  },
  {
   "cell_type": "markdown",
   "metadata": {},
   "source": [
    "Let's start by looking at questions by some keywords: \"why\", \"how\", \"what\", \"is\", \"where\", \"when\", \"which\", \"can\".\n",
    "\n",
    "When certain keywords are, the general format of the response changes. For example, a question with the word \"when\" in it might suggest the user is asking for a specific date (example: \"when will Python 4 be released?\"). As a result, users might take longer or shorter times to answer a given question. Something as simple as a yes or no question might be answered faster than a question that asks for a procedure or methodology"
   ]
  },
  {
   "cell_type": "code",
   "execution_count": 10,
   "metadata": {},
   "outputs": [
    {
     "data": {
      "image/png": "[encoded data removed]",
      "text/plain": [
       "<Figure size 432x288 with 1 Axes>"
      ]
     },
     "metadata": {
      "needs_background": "light"
     },
     "output_type": "display_data"
    }
   ],
   "source": [
    "keywords = [\"why\", \"how\", \"what\", \"is\", \"where\", \"when\", \"which\", \"can\"]\n",
    "\n",
    "def get_grp(x, df, col_name, my_list):\n",
    "    for c in my_list: \n",
    "        if c in df[col_name][x]:\n",
    "            return c\n",
    "        \n",
    "fig = plt.figure()\n",
    "        \n",
    "keywords_df = so.groupby(lambda x : get_grp(x, so, 'Title', keywords)).agg({'time_diff': [lambda x: geo_mean(x), 'count']})        \n",
    "keywords_df.columns.set_levels(['avg','count'],level=1,inplace=True) # rename columns\n",
    "h = keywords_df['time_diff']['avg'].astype('float')\n",
    "plt.bar(x=list(range(8)), height = h)\n",
    "plt.title('Response time by Keyword in Question Title', fontsize=18)\n",
    "plt.ylabel('Geometric Mean Response Time', fontsize=13)\n",
    "plt.xlabel('Keywords', fontsize=13)\n",
    "plt.xticks(list(range(8)), keywords);"
   ]
  },
  {
   "cell_type": "markdown",
   "metadata": {},
   "source": [
    "It seems that that the word 'when' and 'how' keywords display the greatest response times (i.e. users take longer to answer a given question with those keywords present), while titles containing the words 'what' and 'where' generally show the least reponse time (i.e. users take less time and answer a given question faster when such keywords are present.)"
   ]
  },
  {
   "cell_type": "markdown",
   "metadata": {},
   "source": [
    "The next metric we should look at is the size of the title and question at hand. Longer titles might indicate a more complex question, while shorter titles might suggest a simpler, easier-to-answer question. The opposite might also be true: If a question is longer, it might be more specific and detailed, asking for an exact answer, while a shorter question might be too vague and thus not answered."
   ]
  },
  {
   "cell_type": "markdown",
   "metadata": {},
   "source": [
    "Let's start with the length of the title"
   ]
  },
  {
   "cell_type": "code",
   "execution_count": 11,
   "metadata": {},
   "outputs": [
    {
     "data": {
      "text/plain": [
       "<matplotlib.collections.PathCollection at 0x7f59404974e0>"
      ]
     },
     "execution_count": 11,
     "metadata": {},
     "output_type": "execute_result"
    },
    {
     "data": {
      "image/png": "[encoded data removed]",
      "text/plain": [
       "<Figure size 1440x1080 with 1 Axes>"
      ]
     },
     "metadata": {
      "needs_background": "light"
     },
     "output_type": "display_data"
    }
   ],
   "source": [
    "# compute length of each title\n",
    "so['title_length'] = so['Title'].apply(len)\n",
    "# filter zero response times\n",
    "nonzero = so[so['title_length'] != 0]\n",
    "# plot\n",
    "plt.figure(figsize=(20, 15))\n",
    "plt.scatter(x=nonzero[\"title_length\"], y=nonzero[\"time_diff\"].astype('float'))"
   ]
  },
  {
   "cell_type": "markdown",
   "metadata": {},
   "source": [
    "A number of things seem to be going on: First, a significant portion of the data seems to be clustered around the bottom-left region. This region indicates questions with small titles and low response times. There also seems to be a number of points representing short titles with very long response times, much more than points with long titles and long response times. This conflicting data suggests that looking at the title length in isolation is not very informative. "
   ]
  },
  {
   "cell_type": "markdown",
   "metadata": {},
   "source": [
    "Let's try the same procedure with question length"
   ]
  },
  {
   "cell_type": "code",
   "execution_count": 12,
   "metadata": {},
   "outputs": [
    {
     "data": {
      "text/plain": [
       "<matplotlib.collections.PathCollection at 0x7f59403feba8>"
      ]
     },
     "execution_count": 12,
     "metadata": {},
     "output_type": "execute_result"
    },
    {
     "data": {
      "image/png": "[encoded data removed]",
      "text/plain": [
       "<Figure size 1440x1080 with 1 Axes>"
      ]
     },
     "metadata": {
      "needs_background": "light"
     },
     "output_type": "display_data"
    }
   ],
   "source": [
    "# compute length of each title\n",
    "so['body_length'] = so['Body'].apply(len)\n",
    "# filter zero response times\n",
    "nonzero = so[so['body_length'] != 0]\n",
    "# plot\n",
    "plt.figure(figsize=(20, 15))\n",
    "plt.scatter(x=nonzero[\"body_length\"], y=nonzero[\"time_diff\"].astype('float'))"
   ]
  },
  {
   "cell_type": "markdown",
   "metadata": {},
   "source": [
    "This data seems much more skewed to the right. There are almost no points with long questions and long response times and very few points with long questions and short response times. A large percentage of the data is again packed in the bottom-left, representing short questions with short response times, but still quite a few points with short questions and long response times. One interpretation is that questions on the platform usually are relatively small. The case could also be that the sample of data pulled for this experiment is biased and does not represent the true state of questions. This question will be probed later by bringing in more data and performing hypothesis testing. "
   ]
  },
  {
   "cell_type": "markdown",
   "metadata": {},
   "source": [
    "The next metric is the exact time and date at which the question was posted. If Stack Overflow user activity is more hot during the day, a question posted at midnight might recieve less attention and thus result in longer response times. The same scenario can be reflected on the day of the week. If users are more active during the work week, a question posted on the weekend might recieve a longer response time for the same reason. These are simply speculations to show the value in looking at these metrics and do not necessarily reflect reality."
   ]
  },
  {
   "cell_type": "markdown",
   "metadata": {},
   "source": [
    "Let's start with time of day. These easiest way to see this is to place questions into buckets representing ranges of times. For example, bucket 1 will represent 12 AM - 1 AM, bucket 2 will repreesnt 1 AM - 2 AM, and so on, resulting in 24 buckets."
   ]
  },
  {
   "cell_type": "code",
   "execution_count": 13,
   "metadata": {},
   "outputs": [],
   "source": [
    "# extract hour to be used as bucket\n",
    "def extractHour(row):\n",
    "    \n",
    "    # use strptime to convert string to datetime object\n",
    "    \n",
    "    QuestionTime = datetime.strptime(row['QuestionDate'], \"%Y-%m-%d %H:%M:%S\")\n",
    "    \n",
    "    return QuestionTime.hour\n",
    "    \n",
    "so['question_hour'] = so.apply(extractHour, axis=1)"
   ]
  },
  {
   "cell_type": "code",
   "execution_count": 14,
   "metadata": {},
   "outputs": [
    {
     "data": {
      "image/png": "[encoded data removed]",
      "text/plain": [
       "<Figure size 1440x1080 with 1 Axes>"
      ]
     },
     "metadata": {
      "needs_background": "light"
     },
     "output_type": "display_data"
    }
   ],
   "source": [
    "so['hour_bin'], bins = pd.cut(so['question_hour'], bins=list(range(-1,24)), include_lowest=True, retbins=True) # seperate into bins\n",
    "time_df = so[['time_diff', 'hour_bin']].groupby('hour_bin').agg({'time_diff': [geo_mean, 'count']})\n",
    "plt.figure(figsize=(20, 15))\n",
    "plt.bar(range(len(time_df)),time_df['time_diff']['geo_mean'], width=0.5)\n",
    "bins_str = list(map(lambda x: str(x+1) + \" to \" + str(x+2), bins))\n",
    "plt.xticks(range(len(time_df)), bins_str, rotation=65);"
   ]
  },
  {
   "cell_type": "markdown",
   "metadata": {},
   "source": [
    "The above plot shows the geometric mean for questions posted in each time frame of exactly 1 hour. Unfortunately, the computation for 10 AM - 11 AM caused an overflow (i.e. the number resulting in the product was too large). However, it can be seen that questions posted frim 11-12 AM show the fastest response times while questions posted from 1 AM to 2 AM show the longest response times."
   ]
  },
  {
   "cell_type": "markdown",
   "metadata": {},
   "source": [
    "We can repeat this procedure for day of the week. This time we will bucket questions based on when they are posted: Monday, Tuesday, etc..."
   ]
  },
  {
   "cell_type": "code",
   "execution_count": 15,
   "metadata": {},
   "outputs": [],
   "source": [
    "# extract day to be used as bucket\n",
    "def extractDay(row):\n",
    "    \n",
    "    # use strptime to convert string to datetime object\n",
    "    \n",
    "    QuestionTime = datetime.strptime(row['QuestionDate'], \"%Y-%m-%d %H:%M:%S\")\n",
    "    \n",
    "    return QuestionTime.weekday()\n",
    "    \n",
    "so['question_day'] = so.apply(extractDay, axis=1)"
   ]
  },
  {
   "cell_type": "code",
   "execution_count": 16,
   "metadata": {},
   "outputs": [
    {
     "data": {
      "image/png": "[encoded data removed]",
      "text/plain": [
       "<Figure size 1440x1080 with 1 Axes>"
      ]
     },
     "metadata": {
      "needs_background": "light"
     },
     "output_type": "display_data"
    }
   ],
   "source": [
    "day_df = so[['time_diff', 'question_day']].groupby('question_day').agg({'time_diff': [geo_mean, 'count']})\n",
    "plt.figure(figsize=(20, 15))\n",
    "plt.bar(range(len(day_df)), day_df['time_diff']['geo_mean'], width=0.5)\n",
    "bins_str = [\"Monday\", \"Tuesday\", \"Wednesday\", \"Thursday\", \"Friday\", \"Saturday\", \"Sunday\"]\n",
    "plt.xticks(list(range(len(day_df))), bins_str, rotation=65);"
   ]
  },
  {
   "cell_type": "markdown",
   "metadata": {},
   "source": [
    "The above plot shows the geometric mean for questions posted on each day of the week. Unfortunately, the computation for Wednesday caused an overflow (i.e. the number resulting in the product was too large). However, it can be seen that questions posted on Tuesday received the lowest response times while questions posted on Sunday resulted in the longest response times."
   ]
  },
  {
   "cell_type": "markdown",
   "metadata": {},
   "source": [
    "<center>\n",
    "    <h1>\n",
    "        Predicting Response Times\n",
    "        </h1>\n",
    "</center>"
   ]
  },
  {
   "cell_type": "markdown",
   "metadata": {},
   "source": [
    "In this last section, we will develop a model to predict the response times given a question and its various attributes discussed above. Specifically, we will develop a linear regression as well as a K-nearest neighbors (KNN) regression to predict the time in minutes that a given question will take to receieve a response.\n",
    "\n",
    "We will start by only taking the parameters we need:"
   ]
  },
  {
   "cell_type": "code",
   "execution_count": 17,
   "metadata": {},
   "outputs": [],
   "source": [
    "X = so.explode('tag_list').drop(['Id', 'Title', 'Body', 'Tags', 'QuestionDate', 'AnswerDate', 'hour_bin'], axis=1)\n",
    "y = X['time_diff'].astype('float')\n",
    "X = X.drop(['time_diff'], axis=1)"
   ]
  },
  {
   "cell_type": "markdown",
   "metadata": {},
   "source": [
    "Next, both regression models requires numerical features. Thus, in order to encode the string representing the tag(s) for each question, we will use <a src=\"https://en.wikipedia.org/wiki/Feature_hashing\">feature hashing</a> (Other techniques such as one-hot encoding would not work well because the number of unique tags is very high, which result in a large number of features and slow performance). We will use the Category Encoders module, a subdivision of the sklearn library"
   ]
  },
  {
   "cell_type": "code",
   "execution_count": 18,
   "metadata": {},
   "outputs": [
    {
     "data": {
      "text/html": [
       "<div>\n",
       "<style scoped>\n",
       "    .dataframe tbody tr th:only-of-type {\n",
       "        vertical-align: middle;\n",
       "    }\n",
       "\n",
       "    .dataframe tbody tr th {\n",
       "        vertical-align: top;\n",
       "    }\n",
       "\n",
       "    .dataframe thead th {\n",
       "        text-align: right;\n",
       "    }\n",
       "</style>\n",
       "<table border=\"1\" class=\"dataframe\">\n",
       "  <thead>\n",
       "    <tr style=\"text-align: right;\">\n",
       "      <th></th>\n",
       "      <th>col_0</th>\n",
       "      <th>col_1</th>\n",
       "      <th>col_2</th>\n",
       "      <th>col_3</th>\n",
       "      <th>col_4</th>\n",
       "      <th>col_5</th>\n",
       "      <th>col_6</th>\n",
       "      <th>col_7</th>\n",
       "      <th>title_length</th>\n",
       "      <th>body_length</th>\n",
       "      <th>question_hour</th>\n",
       "      <th>question_day</th>\n",
       "    </tr>\n",
       "  </thead>\n",
       "  <tbody>\n",
       "    <tr>\n",
       "      <th>0</th>\n",
       "      <td>0</td>\n",
       "      <td>0</td>\n",
       "      <td>0</td>\n",
       "      <td>0</td>\n",
       "      <td>0</td>\n",
       "      <td>1</td>\n",
       "      <td>0</td>\n",
       "      <td>0</td>\n",
       "      <td>33</td>\n",
       "      <td>280</td>\n",
       "      <td>0</td>\n",
       "      <td>5</td>\n",
       "    </tr>\n",
       "    <tr>\n",
       "      <th>0</th>\n",
       "      <td>1</td>\n",
       "      <td>0</td>\n",
       "      <td>0</td>\n",
       "      <td>0</td>\n",
       "      <td>0</td>\n",
       "      <td>0</td>\n",
       "      <td>0</td>\n",
       "      <td>0</td>\n",
       "      <td>33</td>\n",
       "      <td>280</td>\n",
       "      <td>0</td>\n",
       "      <td>5</td>\n",
       "    </tr>\n",
       "    <tr>\n",
       "      <th>1</th>\n",
       "      <td>0</td>\n",
       "      <td>0</td>\n",
       "      <td>0</td>\n",
       "      <td>0</td>\n",
       "      <td>1</td>\n",
       "      <td>0</td>\n",
       "      <td>0</td>\n",
       "      <td>0</td>\n",
       "      <td>58</td>\n",
       "      <td>2454</td>\n",
       "      <td>0</td>\n",
       "      <td>5</td>\n",
       "    </tr>\n",
       "    <tr>\n",
       "      <th>1</th>\n",
       "      <td>0</td>\n",
       "      <td>0</td>\n",
       "      <td>0</td>\n",
       "      <td>0</td>\n",
       "      <td>0</td>\n",
       "      <td>0</td>\n",
       "      <td>1</td>\n",
       "      <td>0</td>\n",
       "      <td>58</td>\n",
       "      <td>2454</td>\n",
       "      <td>0</td>\n",
       "      <td>5</td>\n",
       "    </tr>\n",
       "    <tr>\n",
       "      <th>2</th>\n",
       "      <td>1</td>\n",
       "      <td>0</td>\n",
       "      <td>0</td>\n",
       "      <td>0</td>\n",
       "      <td>0</td>\n",
       "      <td>0</td>\n",
       "      <td>0</td>\n",
       "      <td>0</td>\n",
       "      <td>47</td>\n",
       "      <td>1605</td>\n",
       "      <td>0</td>\n",
       "      <td>5</td>\n",
       "    </tr>\n",
       "  </tbody>\n",
       "</table>\n",
       "</div>"
      ],
      "text/plain": [
       "   col_0  col_1  col_2  col_3  col_4  col_5  col_6  col_7  title_length  \\\n",
       "0      0      0      0      0      0      1      0      0            33   \n",
       "0      1      0      0      0      0      0      0      0            33   \n",
       "1      0      0      0      0      1      0      0      0            58   \n",
       "1      0      0      0      0      0      0      1      0            58   \n",
       "2      1      0      0      0      0      0      0      0            47   \n",
       "\n",
       "   body_length  question_hour  question_day  \n",
       "0          280              0             5  \n",
       "0          280              0             5  \n",
       "1         2454              0             5  \n",
       "1         2454              0             5  \n",
       "2         1605              0             5  "
      ]
     },
     "execution_count": 18,
     "metadata": {},
     "output_type": "execute_result"
    }
   ],
   "source": [
    "encoder = ce.HashingEncoder(cols=['tag_list'])\n",
    "X = encoder.fit_transform(X, y)\n",
    "X.head()"
   ]
  },
  {
   "cell_type": "markdown",
   "metadata": {},
   "source": [
    "Next, we will split our data into sets for training and learning. The testing portion will be roughly 1/4 of the total dataset and the data will be shuffled before it is divided."
   ]
  },
  {
   "cell_type": "code",
   "execution_count": 19,
   "metadata": {},
   "outputs": [],
   "source": [
    "X_train, X_test, y_train, y_test = train_test_split(X, y)"
   ]
  },
  {
   "cell_type": "markdown",
   "metadata": {},
   "source": [
    "Finally, we will train our linear model on the data"
   ]
  },
  {
   "cell_type": "code",
   "execution_count": 20,
   "metadata": {},
   "outputs": [],
   "source": [
    "reg = LinearRegression().fit(X_train, y_train)"
   ]
  },
  {
   "cell_type": "markdown",
   "metadata": {},
   "source": [
    "We will also train our K-nearest neighbors regression"
   ]
  },
  {
   "cell_type": "code",
   "execution_count": 21,
   "metadata": {},
   "outputs": [],
   "source": [
    "# KNN regression\n",
    "neigh = KNeighborsRegressor(n_neighbors=2).fit(X_train, y_train)"
   ]
  },
  {
   "cell_type": "markdown",
   "metadata": {},
   "source": [
    "We then evaluate our models in two ways: First using a generic mean squared error (MSE). Second using the coefficient of determination, or r-squared, measure. \n",
    "\n",
    "MSE simply takes the arithmetic mean of the squared difference between the predicted vector and the actual vector. We will again use the sklearn package to accomplish this. The R^2 statistic, which exists in the range 0 - 1, represents the proportion of variance in the dependent variable that is explainable by the independent variable(s). A value closer to 1 will indicate that the variance in the response times is explainable by the features discussed above.\n",
    "\n",
    "Evaluating the linear regression:"
   ]
  },
  {
   "cell_type": "code",
   "execution_count": 22,
   "metadata": {},
   "outputs": [],
   "source": [
    "# use linear regression to predict\n",
    "pred = reg.predict(X_test)"
   ]
  },
  {
   "cell_type": "code",
   "execution_count": 23,
   "metadata": {
    "scrolled": true
   },
   "outputs": [
    {
     "name": "stdout",
     "output_type": "stream",
     "text": [
      "Mean Squared Error: 12425960106.852112\n",
      "R^2 Value: 0.0011859187895162382\n"
     ]
    }
   ],
   "source": [
    "# linear regression\n",
    "\n",
    "# MSE\n",
    "print(\"Mean Squared Error: \" + str(mean_squared_error(y_test, pred)))\n",
    "\n",
    "# R-Squared\n",
    "print(\"R^2 Value: \" + str(reg.score(X_test, y_test)))"
   ]
  },
  {
   "cell_type": "markdown",
   "metadata": {},
   "source": [
    "Evaluating the KNN regression:"
   ]
  },
  {
   "cell_type": "code",
   "execution_count": 24,
   "metadata": {},
   "outputs": [],
   "source": [
    "# use KNN regression to predict\n",
    "pred = neigh.predict(X_test)"
   ]
  },
  {
   "cell_type": "code",
   "execution_count": 25,
   "metadata": {},
   "outputs": [
    {
     "name": "stdout",
     "output_type": "stream",
     "text": [
      "Mean Squared Error: 4010397933.081585\n",
      "R^2 Value: 0.6776392413644998\n"
     ]
    }
   ],
   "source": [
    "# KNN regression\n",
    "\n",
    "# MSE\n",
    "print(\"Mean Squared Error: \" + str(mean_squared_error(y_test, pred)))\n",
    "\n",
    "# R-Squared\n",
    "print(\"R^2 Value: \" + str(neigh.score(X_test, y_test)))"
   ]
  },
  {
   "cell_type": "markdown",
   "metadata": {},
   "source": [
    "Our linear regression did not seem to perform very well on our testing data, producing a MSE of 1.2 * 10“11 and a very low R“2 value, indicating that the variance is not predicted very well by the features.\n",
    "\n",
    "In contrast, the KNN regression performed much better with a MSE of only a 4.3 * 10*10 and a much higher R’2 value of 0.64. Additional non-linear regressors could be tested to expand this performance."
   ]
  },
  {
   "cell_type": "markdown",
   "metadata": {},
   "source": [
    "<center>\n",
    "    <h1>\n",
    "    Conclusion\n",
    "        </h1>\n",
    "    </center>"
   ]
  },
  {
   "cell_type": "markdown",
   "metadata": {},
   "source": [
    "In summary, our analysis of the Stack Overflow's data was very informative. To review our procedure: We first began by extracting the relevant data by using SQL queries to match questions with their fastest answer. We then did a preliminary round of preprocessing to compute the time between the post of the question and the post of the first answer, terming this the 'response time’. Next, we underwent a series of procedures to explore and visualize various relationships in the data. Finally, we used the knowledge we gathered to create a regression model. \n",
    "\n",
    "Looking back, there are also several things that could be improved in our analysis. First, another dimension could be added to the problem: currently, we are only looking at questions that have received an answer. However, we could also look at questions that have not been answered, and use this to compute a metric about the probability that a question will be answered. Second, much more work can be done in terms of feature engineering. Currently, our model only incorporates metadata factors (such as length) of the title and body of the question. This procedure loses a lot of information actually present in the question. Natural Language Processing (NLP) methods could further be used to analyze how difficult a question is too answer. However, this also has its own problems because the complexity of a question is subjective (i.e. a question may be easier to answer by an expert and thus result in faster response times and vice versa). \n",
    "\n",
    "Despite these drawbacks, this tutorial did reveal that certain factors do seem to correlate with (and perhaps influence) the response time a question receives, especially in looking at features based on intuition. This tutorial allowed me personally to practice what I learned about the data science pipeline and explore a number of algorithms in a real-life scenario."
   ]
  }
 ],
 "metadata": {
  "kernelspec": {
   "display_name": "Python 3",
   "language": "python",
   "name": "python3"
  },
  "language_info": {
   "codemirror_mode": {
    "name": "ipython",
    "version": 3
   },
   "file_extension": ".py",
   "mimetype": "text/x-python",
   "name": "python",
   "nbconvert_exporter": "python",
   "pygments_lexer": "ipython3",
   "version": "3.7.3"
  }
 },
 "nbformat": 4,
 "nbformat_minor": 2
}
